{
 "cells": [
  {
   "cell_type": "markdown",
   "metadata": {},
   "source": [
    "### Frequent kmer"
   ]
  },
  {
   "cell_type": "code",
   "execution_count": 45,
   "metadata": {},
   "outputs": [
    {
     "name": "stdout",
     "output_type": "stream",
     "text": [
      "--- 0.12189579010009766 seconds ---\n",
      "--- 0.0003159046173095703 seconds ---\n",
      "837\n",
      "9328 in byte\n"
     ]
    }
   ],
   "source": [
    "import time\n",
    "from sys import getsizeof\n",
    "from collections import defaultdict\n",
    "\n",
    "def patternCount(text, pattern):\n",
    "    count = 0\n",
    "    for i in range (len(text) - len(pattern) + 1):\n",
    "        if text[i : i + len(pattern)] == pattern:\n",
    "            count += 1\n",
    "    return count\n",
    "\n",
    "def frequentWord(text, k):\n",
    "    frequentPatterns = {}\n",
    "    for i in range(len(text) - k + 1):\n",
    "        pattern = text[i : i + k]\n",
    "        frequentPatterns[pattern] = patternCount(text, pattern)\n",
    "    mx = max(frequentPatterns.values()) \n",
    "    return [k for k, v in frequentPatterns.items() if v == mx] #multiple max exist.\n",
    "\n",
    "\n",
    "def frequentWord_v2(text, k):\n",
    "    kmerTable = defaultdict(int)\n",
    "    for i in range(len(text) - k + 1):\n",
    "        pattern = text[i: i + k]\n",
    "        kmerTable[pattern] += 1\n",
    "    mx = max(kmerTable.values())\n",
    "    return kmerTable,[k for k, v in kmerTable.items() if v == mx]\n",
    "\n",
    "text = \"ACCCAGTAATGTACACATTAGTCAACCCAGTAACTGTGTGACCCAGTAATTAGTCATGTACACAACCCAGTAAACCCAGTAAACCCAGTAAACCCAGTAATGTACACATTAGTCATGTACACAGCCACTATCTTAGTCATTAGTCAGCCACTATCTTAGTCAACCCAGTAAACCCAGTAAACCCAGTAAACCCAGTAAACCCAGTAACTGTGTGTTAGTCAACCCAGTAAACCCAGTAATTAGTCATGTACACAACCCAGTAAACCCAGTAAACCCAGTAATTAGTCAACCCAGTAACTGTGTGCTGTGTGGCCACTATCACCCAGTAATTAGTCAGCCACTATCCTGTGTGCTGTGTGCTGTGTGGCCACTATCACCCAGTAATTAGTCATGTACACAGCCACTATCTTAGTCAACCCAGTAACTGTGTGACCCAGTAACTGTGTGGCCACTATCCTGTGTGGCCACTATCTTAGTCACTGTGTGACCCAGTAATGTACACATTAGTCATGTACACAGCCACTATCTGTACACAACCCAGTAACTGTGTGCTGTGTGCTGTGTGTTAGTCACTGTGTGTGTACACAACCCAGTAACTGTGTGTGTACACAGCCACTATCCTGTGTGTGTACACACTGTGTGACCCAGTAAACCCAGTAAACCCAGTAAGCCACTATCACCCAGTAAACCCAGTAACTGTGTGTGTACACAGCCACTATCTGTACACAACCCAGTAATTAGTCATTAGTCATTAGTCACTGTGTGACCCAGTAAACCCAGTAAGCCACTATCTGTACACATTAGTCATGTACACACTGTGTGTGTACACATTAGTCA\"\n",
    "\n",
    "start_time = time.time()\n",
    "frequentWord(text, 13)\n",
    "\n",
    "print(\"--- %s seconds ---\" % (time.time() - start_time))\n",
    "start_time = time.time()\n",
    "frequentWord_v2(text, 13)\n",
    "print(\"--- %s seconds ---\" % (time.time() - start_time))\n",
    "print(len(text))\n",
    "print(\"%d in byte\"%getsizeof(frequentWord_v2(text, 13)[0]))\n",
    "\n"
   ]
  },
  {
   "cell_type": "code",
   "execution_count": null,
   "metadata": {
    "collapsed": true
   },
   "outputs": [],
   "source": []
  }
 ],
 "metadata": {
  "kernelspec": {
   "display_name": "Python 3",
   "language": "python",
   "name": "python3"
  },
  "language_info": {
   "codemirror_mode": {
    "name": "ipython",
    "version": 3
   },
   "file_extension": ".py",
   "mimetype": "text/x-python",
   "name": "python",
   "nbconvert_exporter": "python",
   "pygments_lexer": "ipython3",
   "version": "3.6.3"
  }
 },
 "nbformat": 4,
 "nbformat_minor": 2
}
